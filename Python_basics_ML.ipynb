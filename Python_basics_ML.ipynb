{
  "nbformat": 4,
  "nbformat_minor": 0,
  "metadata": {
    "colab": {
      "provenance": [],
      "authorship_tag": "ABX9TyN4lOg/pL10q9dKDZ4h6EYw",
      "include_colab_link": true
    },
    "kernelspec": {
      "name": "python3",
      "display_name": "Python 3"
    },
    "language_info": {
      "name": "python"
    }
  },
  "cells": [
    {
      "cell_type": "markdown",
      "metadata": {
        "id": "view-in-github",
        "colab_type": "text"
      },
      "source": [
        "<a href=\"https://colab.research.google.com/github/Israamanaziz/Python-for-absolute-beginners/blob/main/Python_basics_ML.ipynb\" target=\"_parent\"><img src=\"https://colab.research.google.com/assets/colab-badge.svg\" alt=\"Open In Colab\"/></a>"
      ]
    },
    {
      "cell_type": "markdown",
      "source": [
        "#Programming languages used for ML\n",
        "1. Python\n",
        "2. R"
      ],
      "metadata": {
        "id": "3kpxD2ZlEZVA"
      }
    },
    {
      "cell_type": "code",
      "execution_count": null,
      "metadata": {
        "colab": {
          "base_uri": "https://localhost:8080/"
        },
        "id": "IVFHLmFeEQqX",
        "outputId": "8e2739ac-de6f-402b-b0c1-37904a4714a4"
      },
      "outputs": [
        {
          "output_type": "stream",
          "name": "stdout",
          "text": [
            "ML\n"
          ]
        }
      ],
      "source": [
        "#print function\n",
        "print(\"ML\")"
      ]
    },
    {
      "cell_type": "code",
      "source": [
        "print(\"ML \"+ \" Project\")"
      ],
      "metadata": {
        "colab": {
          "base_uri": "https://localhost:8080/"
        },
        "id": "-t6c8zYVEoXH",
        "outputId": "33c39108-96b6-4453-d00e-e2a13bf8f3c6"
      },
      "execution_count": null,
      "outputs": [
        {
          "output_type": "stream",
          "name": "stdout",
          "text": [
            "ML  Project\n"
          ]
        }
      ]
    },
    {
      "cell_type": "code",
      "source": [
        "print(8)"
      ],
      "metadata": {
        "colab": {
          "base_uri": "https://localhost:8080/"
        },
        "id": "OU5KL6BCE6uY",
        "outputId": "0ffc648d-230e-4c77-f12a-8e2f9abc3c11"
      },
      "execution_count": null,
      "outputs": [
        {
          "output_type": "stream",
          "name": "stdout",
          "text": [
            "8\n"
          ]
        }
      ]
    },
    {
      "cell_type": "code",
      "source": [
        "print(8+8)"
      ],
      "metadata": {
        "colab": {
          "base_uri": "https://localhost:8080/"
        },
        "id": "nmd_1_g7FBD4",
        "outputId": "e67db52f-5405-4f91-996c-42b2a095272e"
      },
      "execution_count": null,
      "outputs": [
        {
          "output_type": "stream",
          "name": "stdout",
          "text": [
            "16\n"
          ]
        }
      ]
    },
    {
      "cell_type": "markdown",
      "source": [
        "#Basic data types\n",
        "1.integer\n",
        "\n",
        "2.floating point\n",
        "\n",
        "3.string\n",
        "\n",
        "4.Boolean\n",
        "\n",
        "5.Complex\n",
        "\n"
      ],
      "metadata": {
        "id": "nHlFyfQsFZWT"
      }
    },
    {
      "cell_type": "code",
      "source": [
        "# integers\n",
        "a=8\n",
        "print(a)\n",
        "type(a)\n",
        "\n",
        "# floating point\n",
        "\n",
        "b = 2.3\n",
        "print(b)\n",
        "type(b)"
      ],
      "metadata": {
        "colab": {
          "base_uri": "https://localhost:8080/"
        },
        "id": "vsvUIUnGJA1U",
        "outputId": "f283854b-3a20-467a-d611-bd75d2f893e3"
      },
      "execution_count": null,
      "outputs": [
        {
          "output_type": "stream",
          "name": "stdout",
          "text": [
            "8\n",
            "2.3\n"
          ]
        },
        {
          "output_type": "execute_result",
          "data": {
            "text/plain": [
              "float"
            ]
          },
          "metadata": {},
          "execution_count": 17
        }
      ]
    },
    {
      "cell_type": "code",
      "source": [
        "#convert int to float\n",
        "x = 5\n",
        "print(x)\n",
        "type(x)"
      ],
      "metadata": {
        "colab": {
          "base_uri": "https://localhost:8080/"
        },
        "id": "VsoujjjaJX_f",
        "outputId": "72865371-ef15-4e56-cc3a-5b4df99541cc"
      },
      "execution_count": null,
      "outputs": [
        {
          "output_type": "stream",
          "name": "stdout",
          "text": [
            "5\n"
          ]
        },
        {
          "output_type": "execute_result",
          "data": {
            "text/plain": [
              "int"
            ]
          },
          "metadata": {},
          "execution_count": 20
        }
      ]
    },
    {
      "cell_type": "code",
      "source": [
        "y = float(x)\n",
        "print(y)\n",
        "type(y)"
      ],
      "metadata": {
        "colab": {
          "base_uri": "https://localhost:8080/"
        },
        "id": "Y_vKwMEkKKK1",
        "outputId": "45823a10-45ff-4c43-a8a5-94c88e0fccf8"
      },
      "execution_count": null,
      "outputs": [
        {
          "output_type": "stream",
          "name": "stdout",
          "text": [
            "5.0\n"
          ]
        },
        {
          "output_type": "execute_result",
          "data": {
            "text/plain": [
              "float"
            ]
          },
          "metadata": {},
          "execution_count": 21
        }
      ]
    },
    {
      "cell_type": "code",
      "source": [
        "# boolean\n",
        "a = 7>3\n",
        "print (a)\n",
        "type(a)"
      ],
      "metadata": {
        "colab": {
          "base_uri": "https://localhost:8080/"
        },
        "id": "q0ZCzUjBK8J7",
        "outputId": "382d0792-1632-43fa-9ca0-fd245975b877"
      },
      "execution_count": null,
      "outputs": [
        {
          "output_type": "stream",
          "name": "stdout",
          "text": [
            "True\n"
          ]
        },
        {
          "output_type": "execute_result",
          "data": {
            "text/plain": [
              "bool"
            ]
          },
          "metadata": {},
          "execution_count": 22
        }
      ]
    },
    {
      "cell_type": "code",
      "source": [
        "#String\n",
        "print(\"Hello\"*3)"
      ],
      "metadata": {
        "colab": {
          "base_uri": "https://localhost:8080/"
        },
        "id": "0zPUKPnMLxbA",
        "outputId": "acb6d420-04a5-4719-de08-3524e954c973"
      },
      "execution_count": null,
      "outputs": [
        {
          "output_type": "stream",
          "name": "stdout",
          "text": [
            "HelloHelloHello\n"
          ]
        }
      ]
    },
    {
      "cell_type": "code",
      "source": [
        "#SLICING\n",
        "my_string = \"Machine Learning\"\n",
        "print(my_string[1:4])\n",
        "print(my_string[:4])\n",
        "print(my_string[9:])\n",
        "\n",
        "#Step\n",
        "print(my_string[0:10:3])"
      ],
      "metadata": {
        "colab": {
          "base_uri": "https://localhost:8080/"
        },
        "id": "4Omzn265L5hY",
        "outputId": "e93d4520-e4aa-4616-831e-9f544dec3632"
      },
      "execution_count": null,
      "outputs": [
        {
          "output_type": "stream",
          "name": "stdout",
          "text": [
            "ach\n",
            "Mach\n",
            "earning\n",
            "Mhee\n"
          ]
        }
      ]
    },
    {
      "cell_type": "markdown",
      "source": [
        "###STRING CONCATENATION\n"
      ],
      "metadata": {
        "id": "t8lDo2OlMeaK"
      }
    },
    {
      "cell_type": "code",
      "source": [
        "word_1 = \"Isra\"\n",
        "word_2 = \"Aman\"\n",
        "print(word_1 + ' '  +  word_2)"
      ],
      "metadata": {
        "colab": {
          "base_uri": "https://localhost:8080/"
        },
        "id": "yWLkCR7rMeHY",
        "outputId": "56447fe5-88d7-49a0-ee4a-84a42c89eb6d"
      },
      "execution_count": null,
      "outputs": [
        {
          "output_type": "stream",
          "name": "stdout",
          "text": [
            "Isra Aman\n"
          ]
        }
      ]
    },
    {
      "cell_type": "markdown",
      "source": [
        "#Constants & Variables\n"
      ],
      "metadata": {
        "id": "EuB8eHhmF6je"
      }
    },
    {
      "cell_type": "code",
      "source": [
        " superman = \"Iron man\"\n",
        "print(\"superman\")"
      ],
      "metadata": {
        "colab": {
          "base_uri": "https://localhost:8080/"
        },
        "id": "ACNn4p1XFFX5",
        "outputId": "e76dab5f-5c9a-4045-b904-899e5c86ef58"
      },
      "execution_count": null,
      "outputs": [
        {
          "output_type": "stream",
          "name": "stdout",
          "text": [
            "superman\n"
          ]
        }
      ]
    },
    {
      "cell_type": "markdown",
      "source": [
        "# INPUT FUNCTION"
      ],
      "metadata": {
        "id": "SRciayxdFXEu"
      }
    },
    {
      "cell_type": "code",
      "source": [
        "number_1 = int(input(\"Enter the first num:\"))\n",
        "number_2 = int(input(\"Enter the second num:\"))\n",
        "\n",
        "sum = number_1 + number_2\n",
        "print(sum)"
      ],
      "metadata": {
        "colab": {
          "base_uri": "https://localhost:8080/"
        },
        "id": "5X_iQHCHHA8m",
        "outputId": "1cffa033-4422-4514-858a-663eb864e74d"
      },
      "execution_count": null,
      "outputs": [
        {
          "output_type": "stream",
          "name": "stdout",
          "text": [
            "Enter the first num:2\n",
            "Enter the second num:4\n",
            "6\n"
          ]
        }
      ]
    },
    {
      "cell_type": "code",
      "source": [
        " # Changing the datatype in python\n",
        " num = 5\n",
        " print(float(num))"
      ],
      "metadata": {
        "colab": {
          "base_uri": "https://localhost:8080/"
        },
        "id": "uNTD8fhaHRV5",
        "outputId": "176be629-fe8d-4791-cb3d-4a63d23dd629"
      },
      "execution_count": null,
      "outputs": [
        {
          "output_type": "stream",
          "name": "stdout",
          "text": [
            "5.0\n"
          ]
        }
      ]
    },
    {
      "cell_type": "markdown",
      "source": [
        "#Types of Objects in Python\n",
        "\n",
        "1. Immutable Objects\n",
        "2. Mutable Objects\n",
        "\n",
        "IMMUTABLE:\n",
        "1. int\n",
        "2. float\n",
        "3. string\n",
        "4. bool\n",
        "5. tuple\n",
        "\n",
        "Mutable\n",
        "1. List\n",
        "2. Set\n",
        "3. Dictionary"
      ],
      "metadata": {
        "id": "Y-C7VtDXM65U"
      }
    },
    {
      "cell_type": "code",
      "source": [
        "# List : Square Bracket [] arrays in program, store multiple values\n",
        " my_list = [1,2,3,3,4,5,6,7,4,8,]\n",
        " print(my_list)\n",
        " type(my_list)\n"
      ],
      "metadata": {
        "colab": {
          "base_uri": "https://localhost:8080/"
        },
        "id": "HY60vVEbIERy",
        "outputId": "385af58b-affd-4e32-d463-d77873712f21"
      },
      "execution_count": null,
      "outputs": [
        {
          "output_type": "stream",
          "name": "stdout",
          "text": [
            "[1, 2, 3, 3, 4, 5, 6, 7, 4, 8]\n"
          ]
        },
        {
          "output_type": "execute_result",
          "data": {
            "text/plain": [
              "list"
            ]
          },
          "metadata": {},
          "execution_count": 37
        }
      ]
    },
    {
      "cell_type": "code",
      "source": [
        " # list can have multiple data types, allows duplicate values\n",
        " my_list2 = [2,3, 4.5, \"Maths, true\"]\n",
        " print(my_list2)\n",
        " type(my_list2)"
      ],
      "metadata": {
        "colab": {
          "base_uri": "https://localhost:8080/"
        },
        "id": "pViPRoLpNBtl",
        "outputId": "4790b40b-12a5-4d6e-c7ec-c32f85e77942"
      },
      "execution_count": null,
      "outputs": [
        {
          "output_type": "stream",
          "name": "stdout",
          "text": [
            "[2, 3, 4.5, 'Maths, true']\n"
          ]
        },
        {
          "output_type": "execute_result",
          "data": {
            "text/plain": [
              "list"
            ]
          },
          "metadata": {},
          "execution_count": 38
        }
      ]
    },
    {
      "cell_type": "code",
      "source": [
        "#Add elements to list (List are mutable)\n",
        " my_list2 = [2,3, 4.5, \"Maths\", True]\n",
        " my_list2.append(9)\n",
        " print(my_list2)"
      ],
      "metadata": {
        "colab": {
          "base_uri": "https://localhost:8080/"
        },
        "id": "V-XyT7EXPFDy",
        "outputId": "f6446fbf-d039-4c19-d75d-1270ea08cfa2"
      },
      "execution_count": null,
      "outputs": [
        {
          "output_type": "stream",
          "name": "stdout",
          "text": [
            "[2, 3, 4.5, 'Maths', True, 9]\n"
          ]
        }
      ]
    },
    {
      "cell_type": "code",
      "source": [
        "# we can delete list elements\n",
        "my_list2 = [2,3, 4.5, \"Maths\", True]\n",
        "print(my_list2)\n",
        "\n",
        "del my_list2[2]\n",
        "print(my_list2)"
      ],
      "metadata": {
        "colab": {
          "base_uri": "https://localhost:8080/"
        },
        "id": "Uy-nSBfTPmDl",
        "outputId": "143d06d8-ec63-454b-87e7-72638fceef88"
      },
      "execution_count": null,
      "outputs": [
        {
          "output_type": "stream",
          "name": "stdout",
          "text": [
            "[2, 3, 4.5, 'Maths', True]\n",
            "[2, 3, 'Maths', True]\n"
          ]
        }
      ]
    },
    {
      "cell_type": "code",
      "source": [
        "# add 2 lists\n",
        "list_3 = [3,4,5,6,9]\n",
        "list_4 = [1,2,3,4]\n",
        "list_5 = list_3 + list_4\n",
        "print(list_5)"
      ],
      "metadata": {
        "colab": {
          "base_uri": "https://localhost:8080/"
        },
        "id": "2Wa9_BmRrzhS",
        "outputId": "f2e0d2b3-7034-4a2b-ae26-74522c24ae12"
      },
      "execution_count": null,
      "outputs": [
        {
          "output_type": "stream",
          "name": "stdout",
          "text": [
            "[3, 4, 5, 6, 9, 1, 2, 3, 4]\n"
          ]
        }
      ]
    },
    {
      "cell_type": "markdown",
      "source": [
        "TUPLE"
      ],
      "metadata": {
        "id": "RVNr09ZusSTT"
      }
    },
    {
      "cell_type": "code",
      "source": [
        "tuple_1 = (1,2,3,4)\n",
        "print(tuple_1)\n",
        "# allows multiple data types\n",
        "# tuple are immutable(unchhangeable), so no append or anything\n",
        "# converting a list to tuple\n",
        "my_list7 = [2,3,4,5,6,7]\n",
        "print(my_list7)\n",
        "\n",
        "tuple4 = tuple(my_list7)\n",
        "print(tuple4)"
      ],
      "metadata": {
        "colab": {
          "base_uri": "https://localhost:8080/"
        },
        "id": "Jc7DkWySsPml",
        "outputId": "9183a630-68e1-42fe-b877-f38baffdcc66"
      },
      "execution_count": null,
      "outputs": [
        {
          "output_type": "stream",
          "name": "stdout",
          "text": [
            "(1, 2, 3, 4)\n",
            "[2, 3, 4, 5, 6, 7]\n",
            "(2, 3, 4, 5, 6, 7)\n"
          ]
        }
      ]
    },
    {
      "cell_type": "markdown",
      "source": [
        "Dictionary"
      ],
      "metadata": {
        "id": "bTSxcncd1dY2"
      }
    },
    {
      "cell_type": "code",
      "source": [
        "#dictionary has a key and value\n",
        "#does not allow duplicate values\n",
        "dict1 = {'name': 'David', 'age':'34','Country': 'India'}\n",
        "print(dict1)\n",
        "type(dict1)\n",
        "print(dict1['name'])\n",
        "print(dict1['age'])\n",
        "print(dict1['Country'])"
      ],
      "metadata": {
        "colab": {
          "base_uri": "https://localhost:8080/"
        },
        "id": "kvEq3JJ7sbc-",
        "outputId": "25245934-def2-4df6-90b3-d3a2e8d4a115"
      },
      "execution_count": null,
      "outputs": [
        {
          "output_type": "stream",
          "name": "stdout",
          "text": [
            "{'name': 'David', 'age': '34', 'Country': 'India'}\n",
            "David\n",
            "34\n",
            "India\n"
          ]
        }
      ]
    },
    {
      "cell_type": "markdown",
      "source": [
        "Operators in Python\n",
        "\n",
        "1.Arithmetic\n",
        "\n",
        "2.Assignment\n",
        "\n",
        "3.Comparison\n",
        "\n",
        "4.Logical\n",
        "\n",
        "5.Identity\n",
        "\n",
        "6.Memebership"
      ],
      "metadata": {
        "id": "xw-EkcBgLvqi"
      }
    },
    {
      "cell_type": "code",
      "source": [
        "n=1\n",
        "h=3\n",
        "sum = n + h\n",
        "print('sum =',sum)\n",
        "\n",
        "diff = n - h\n",
        "print('diff =', diff)\n"
      ],
      "metadata": {
        "id": "dP4ETDIz10hF",
        "colab": {
          "base_uri": "https://localhost:8080/"
        },
        "outputId": "e070d7c2-f24e-472c-efca-22c38b987aa8"
      },
      "execution_count": null,
      "outputs": [
        {
          "output_type": "stream",
          "name": "stdout",
          "text": [
            "sum = 4\n",
            "diff = -2\n"
          ]
        }
      ]
    },
    {
      "cell_type": "markdown",
      "source": [
        "# IF-ELSE Statement"
      ],
      "metadata": {
        "id": "XMaGHZCqTe-N"
      }
    },
    {
      "cell_type": "code",
      "source": [
        "a = 10\n",
        "b = 60\n",
        "\n",
        "if(a>b):\n",
        "  print('a is the greatest number')\n",
        "else:\n",
        "    print('B is the greatest number')"
      ],
      "metadata": {
        "colab": {
          "base_uri": "https://localhost:8080/"
        },
        "id": "PFOe3EfVMWa7",
        "outputId": "8c613558-62a1-41c3-e4e0-2070b9f5c2bd"
      },
      "execution_count": null,
      "outputs": [
        {
          "output_type": "stream",
          "name": "stdout",
          "text": [
            "B is th egreatest number\n"
          ]
        }
      ]
    },
    {
      "cell_type": "code",
      "source": [
        "a = int(input('Enter the first number:'))\n",
        "b = int(input('Enter the second number:'))\n",
        "\n",
        "if (a >b):\n",
        "  print('a is the greatest number')\n",
        "else:\n",
        "  print('b is the greatest number')"
      ],
      "metadata": {
        "colab": {
          "base_uri": "https://localhost:8080/"
        },
        "id": "F_CedWoCT4Y3",
        "outputId": "863d8f10-238b-4eaf-acb3-0b74a4c6ceda"
      },
      "execution_count": null,
      "outputs": [
        {
          "output_type": "stream",
          "name": "stdout",
          "text": [
            "Enter the first number:34476\n",
            "Enter the second number:873678\n",
            "b is the greatest number\n"
          ]
        }
      ]
    },
    {
      "cell_type": "markdown",
      "source": [
        "If-elif-else staement"
      ],
      "metadata": {
        "id": "ffr4Bp_nWojY"
      }
    },
    {
      "cell_type": "code",
      "source": [
        "a = 34\n",
        "b = 45\n",
        "c = 56\n",
        "\n",
        "if (a>b<c):\n",
        "  print('a is the greatest no')\n",
        "elif (a<b<c):\n",
        "  print(' b is the greatest statement')\n",
        "else:\n",
        "  print('c is the greatest no')"
      ],
      "metadata": {
        "colab": {
          "base_uri": "https://localhost:8080/"
        },
        "id": "r8f72RL-UXWg",
        "outputId": "09d605ea-7af1-4aef-b990-bc3b30ad2591"
      },
      "execution_count": null,
      "outputs": [
        {
          "output_type": "stream",
          "name": "stdout",
          "text": [
            " b is the greatest statement\n"
          ]
        }
      ]
    },
    {
      "cell_type": "markdown",
      "source": [
        "nested if else"
      ],
      "metadata": {
        "id": "BEu6i5eQXRAV"
      }
    },
    {
      "cell_type": "code",
      "source": [
        "a = 34\n",
        "b = 45\n",
        "c = 56\n",
        "\n",
        "if (a<b):\n",
        "  if(a<c):\n",
        "    print('a is the smallest number')\n",
        "  else:\n",
        "    print('c is the smallest number')\n",
        "else:\n",
        "    if(b<c):\n",
        "      print('b is the smallest number')\n",
        "    else:\n",
        "      print('c is the smallest number')"
      ],
      "metadata": {
        "colab": {
          "base_uri": "https://localhost:8080/"
        },
        "id": "_ZRzeBz5XN82",
        "outputId": "8db131dc-aa18-4d41-9343-daed29c7f75d"
      },
      "execution_count": null,
      "outputs": [
        {
          "output_type": "stream",
          "name": "stdout",
          "text": [
            "a is the smallest number\n"
          ]
        }
      ]
    },
    {
      "cell_type": "markdown",
      "source": [
        "# LOOPS IN PYTHON\n",
        "FOR LOOPS\n",
        "\n",
        "WHILE LOOPS\n",
        "\n",
        "DO WHILE LOOPS"
      ],
      "metadata": {
        "id": "gPcCkjrnYN3e"
      }
    },
    {
      "cell_type": "code",
      "source": [
        "laptop1 = int(input('Enter the price of the laptop:'))"
      ],
      "metadata": {
        "colab": {
          "base_uri": "https://localhost:8080/"
        },
        "id": "UBDuTO6XX6QB",
        "outputId": "58c12ad8-1195-473e-be9d-0bf3b4a3c4b5"
      },
      "execution_count": null,
      "outputs": [
        {
          "name": "stdout",
          "output_type": "stream",
          "text": [
            "Enter the price of the laptop:340000\n"
          ]
        }
      ]
    },
    {
      "cell_type": "code",
      "source": [
        "for i in range(5): # 0,1,2,3,4\n",
        "  laptop_price = int(input('Enter the price of the laptop: '))"
      ],
      "metadata": {
        "colab": {
          "base_uri": "https://localhost:8080/"
        },
        "id": "f_zVEPCqYc7r",
        "outputId": "42fe4f8a-55e6-4f54-ddf5-4aa5d261b636"
      },
      "execution_count": null,
      "outputs": [
        {
          "name": "stdout",
          "output_type": "stream",
          "text": [
            "Enter the price of the laptop: 34000\n",
            "Enter the price of the laptop: 34000\n",
            "Enter the price of the laptop: 76776\n",
            "Enter the price of the laptop: 7567\n",
            "Enter the price of the laptop: 65675\n"
          ]
        }
      ]
    },
    {
      "cell_type": "code",
      "source": [
        "numbers = [50,100,150,200,300]\n",
        "\n",
        "print(numbers[0])\n",
        "print(numbers[1])\n",
        "print(numbers[2])\n",
        "print(numbers[3])"
      ],
      "metadata": {
        "colab": {
          "base_uri": "https://localhost:8080/"
        },
        "id": "EvwR0zsmm1FF",
        "outputId": "0e6aa2f3-e652-4948-bfb8-38112dee1143"
      },
      "execution_count": null,
      "outputs": [
        {
          "output_type": "stream",
          "name": "stdout",
          "text": [
            "50\n",
            "100\n",
            "150\n",
            "200\n"
          ]
        }
      ]
    },
    {
      "cell_type": "code",
      "source": [
        "numbers = [50,100,150,200,300]\n",
        "\n",
        "for i in numbers:\n",
        "  print(i)"
      ],
      "metadata": {
        "colab": {
          "base_uri": "https://localhost:8080/"
        },
        "id": "K4fLzdIJnxnk",
        "outputId": "b8fdae91-ebe5-4331-d6f0-9d692d96b4c1"
      },
      "execution_count": null,
      "outputs": [
        {
          "output_type": "stream",
          "name": "stdout",
          "text": [
            "50\n",
            "100\n",
            "150\n",
            "200\n",
            "300\n"
          ]
        }
      ]
    },
    {
      "cell_type": "markdown",
      "source": [
        "**While Loop is used when we do not know the number of times an action has to be executed**"
      ],
      "metadata": {
        "id": "VsjrTF5RoEh_"
      }
    },
    {
      "cell_type": "code",
      "source": [
        "i = 0\n",
        "\n",
        "while i<10:\n",
        "  print(i)\n",
        "  i +=1"
      ],
      "metadata": {
        "colab": {
          "base_uri": "https://localhost:8080/"
        },
        "id": "wZKk2Xmkn6CE",
        "outputId": "419fcf50-49a5-443d-b2e1-0fe87ad54efb"
      },
      "execution_count": null,
      "outputs": [
        {
          "output_type": "stream",
          "name": "stdout",
          "text": [
            "0\n",
            "1\n",
            "2\n",
            "3\n",
            "4\n",
            "5\n",
            "6\n",
            "7\n",
            "8\n",
            "9\n"
          ]
        }
      ]
    },
    {
      "cell_type": "code",
      "source": [
        "i = 5\n",
        "\n",
        "while i < 5:\n",
        "  print(i)\n",
        "  i += 1"
      ],
      "metadata": {
        "id": "rneXaWvPo2bn"
      },
      "execution_count": null,
      "outputs": []
    },
    {
      "cell_type": "markdown",
      "source": [
        "# FUNCTIONS IN PYTHON\n",
        "\n",
        "Function is a block of code that can be reused in a program"
      ],
      "metadata": {
        "id": "5FwR99U-9R79"
      }
    },
    {
      "cell_type": "code",
      "source": [
        "# Factorial of a number 5 = 5*4*3*2*1\n",
        "\n",
        "number = int(input('Enter the given number: '))\n",
        "\n",
        "fact = 1\n",
        "\n",
        "if number == 0:\n",
        "  print('The factorial of 0 is 1')\n",
        "\n",
        "else:\n",
        "  for i in range(1, num +1):\n",
        "    fact = fact*i\n",
        "  print('The factorial of', number, 'is', fact)"
      ],
      "metadata": {
        "colab": {
          "base_uri": "https://localhost:8080/"
        },
        "id": "ZCRhoosw876q",
        "outputId": "3860c9f2-78c4-4a78-b577-77854a75cb17"
      },
      "execution_count": null,
      "outputs": [
        {
          "output_type": "stream",
          "name": "stdout",
          "text": [
            "Enter the given number: 5\n",
            "The factorial of 5 is 120\n"
          ]
        }
      ]
    },
    {
      "cell_type": "markdown",
      "source": [
        "FACTORIAL FUNCTION"
      ],
      "metadata": {
        "id": "mbMIIuIo_pPW"
      }
    },
    {
      "cell_type": "code",
      "source": [
        "def Factorial_value(num):\n",
        "  fact = 1\n",
        "  if num == 0:\n",
        "    return fact\n",
        "\n",
        "  else:\n",
        "   for i in range(1, num +1):\n",
        "    fact = fact*i\n",
        "   return fact"
      ],
      "metadata": {
        "id": "MhdSV7zY_D3L"
      },
      "execution_count": null,
      "outputs": []
    },
    {
      "cell_type": "code",
      "source": [
        "print(Factorial_value(5))"
      ],
      "metadata": {
        "colab": {
          "base_uri": "https://localhost:8080/"
        },
        "id": "x7hpMC1VARa5",
        "outputId": "0250b401-3fb0-4849-81c6-69dcb55d702f"
      },
      "execution_count": null,
      "outputs": [
        {
          "output_type": "stream",
          "name": "stdout",
          "text": [
            "120\n"
          ]
        }
      ]
    },
    {
      "cell_type": "code",
      "source": [
        "print(Factorial_value(10))"
      ],
      "metadata": {
        "colab": {
          "base_uri": "https://localhost:8080/"
        },
        "id": "eaXkN_zaAZmv",
        "outputId": "9d5744d0-9a88-4b78-fd74-d0f3a4c7ced7"
      },
      "execution_count": null,
      "outputs": [
        {
          "output_type": "stream",
          "name": "stdout",
          "text": [
            "3628800\n"
          ]
        }
      ]
    },
    {
      "cell_type": "markdown",
      "source": [
        "# NumPy - Numerical Python\n",
        "\n",
        "1.Allows several Mathematical Operations\n",
        "\n",
        "2.faster Operations"
      ],
      "metadata": {
        "id": "aDpfF9_fLJNu"
      }
    },
    {
      "cell_type": "code",
      "source": [
        "import numpy as np"
      ],
      "metadata": {
        "id": "Pb2NBDnYEJHO"
      },
      "execution_count": null,
      "outputs": []
    },
    {
      "cell_type": "markdown",
      "source": [
        "List vs NumPy time taken"
      ],
      "metadata": {
        "id": "WgegjzhCNKs9"
      }
    },
    {
      "cell_type": "code",
      "source": [
        "from time import process_time"
      ],
      "metadata": {
        "id": "FSF2qC9yMqkN"
      },
      "execution_count": null,
      "outputs": []
    },
    {
      "cell_type": "code",
      "source": [
        "# Time taken by a list\n",
        "python_list = [i for i in range(10000)]\n",
        "\n",
        "start_time = process_time()\n",
        "\n",
        "python_list = [i + 5 for i in python_list]\n",
        "\n",
        "end_time = process_time()\n",
        "\n",
        "print(end_time - start_time)"
      ],
      "metadata": {
        "colab": {
          "base_uri": "https://localhost:8080/"
        },
        "id": "wWntfR2_NRf0",
        "outputId": "2f6eb343-a3ef-4a58-be01-2bb05bc6dcc5"
      },
      "execution_count": null,
      "outputs": [
        {
          "output_type": "stream",
          "name": "stdout",
          "text": [
            "0.0007158519999990176\n"
          ]
        }
      ]
    },
    {
      "cell_type": "code",
      "source": [
        "# Time taken by Numpy array\n",
        "\n",
        "np_array = np.array([i for i in range(10000)])\n",
        "\n",
        "start_time = process_time()\n",
        "\n",
        "np_array += 5\n",
        "\n",
        "end_time = process_time()\n",
        "\n",
        "print(end_time - start_time)"
      ],
      "metadata": {
        "colab": {
          "base_uri": "https://localhost:8080/"
        },
        "id": "rPIcJE4sOIo0",
        "outputId": "566282f6-3a4f-44a2-9ed9-ef0354159a70"
      },
      "execution_count": null,
      "outputs": [
        {
          "output_type": "stream",
          "name": "stdout",
          "text": [
            "0.0002378859999936367\n"
          ]
        }
      ]
    },
    {
      "cell_type": "code",
      "source": [
        "# creating a list\n",
        "list1 = [1,2,3,4]\n",
        "print(list1)\n",
        "type(list1)"
      ],
      "metadata": {
        "colab": {
          "base_uri": "https://localhost:8080/"
        },
        "id": "VBrGLLKZV6Sg",
        "outputId": "43146dd3-5e0b-42c8-a452-775ef0a4384c"
      },
      "execution_count": null,
      "outputs": [
        {
          "output_type": "stream",
          "name": "stdout",
          "text": [
            "[1, 2, 3, 4]\n"
          ]
        },
        {
          "output_type": "execute_result",
          "data": {
            "text/plain": [
              "list"
            ]
          },
          "metadata": {},
          "execution_count": 57
        }
      ]
    },
    {
      "cell_type": "code",
      "source": [
        "# Creating a 1 dimensional array\n",
        "x = np.array([1,2,3,4])\n",
        "print(x)"
      ],
      "metadata": {
        "colab": {
          "base_uri": "https://localhost:8080/"
        },
        "id": "i3petuCDYQ53",
        "outputId": "54f59dd4-3a4d-4b33-c246-810f914960aa"
      },
      "execution_count": null,
      "outputs": [
        {
          "output_type": "stream",
          "name": "stdout",
          "text": [
            "[1 2 3 4]\n"
          ]
        }
      ]
    },
    {
      "cell_type": "code",
      "source": [
        "x.shape"
      ],
      "metadata": {
        "colab": {
          "base_uri": "https://localhost:8080/"
        },
        "id": "UZiAL0BbYlpU",
        "outputId": "1529060c-8565-4bb4-b719-e4d330dae02f"
      },
      "execution_count": null,
      "outputs": [
        {
          "output_type": "execute_result",
          "data": {
            "text/plain": [
              "(4,)"
            ]
          },
          "metadata": {},
          "execution_count": 59
        }
      ]
    },
    {
      "cell_type": "code",
      "source": [
        "# create a 2 dimensional array\n",
        "b = np.array([(1,2,3,4), (5,6,7,8),(9,10,11,12)])\n",
        "print(b)\n",
        "\n",
        "\n",
        "b.shape\n",
        "# 1st rows, 2nd columns"
      ],
      "metadata": {
        "colab": {
          "base_uri": "https://localhost:8080/"
        },
        "id": "Jv5lsw9fYnGn",
        "outputId": "200ce234-8411-41e8-bf5c-9d6fbf9af729"
      },
      "execution_count": null,
      "outputs": [
        {
          "output_type": "stream",
          "name": "stdout",
          "text": [
            "[[ 1  2  3  4]\n",
            " [ 5  6  7  8]\n",
            " [ 9 10 11 12]]\n"
          ]
        },
        {
          "output_type": "execute_result",
          "data": {
            "text/plain": [
              "(3, 4)"
            ]
          },
          "metadata": {},
          "execution_count": 62
        }
      ]
    },
    {
      "cell_type": "code",
      "source": [
        "c = np.array([(1,2,3,4,5)], dtype=float)\n",
        "print(c)"
      ],
      "metadata": {
        "colab": {
          "base_uri": "https://localhost:8080/"
        },
        "id": "oEY5kDxsZBet",
        "outputId": "97353448-03a5-4a56-c08d-ac3066636c5e"
      },
      "execution_count": null,
      "outputs": [
        {
          "output_type": "stream",
          "name": "stdout",
          "text": [
            "[[1. 2. 3. 4. 5.]]\n"
          ]
        }
      ]
    },
    {
      "cell_type": "code",
      "source": [
        "# Initialising placeholders iin numpy arrays\n",
        "\n",
        "\n",
        "# Create a numpy array of Zeros\n",
        "\n",
        "x = np.zeros((4,5))\n",
        "print(x)"
      ],
      "metadata": {
        "colab": {
          "base_uri": "https://localhost:8080/"
        },
        "id": "_dAhM6mnZpDD",
        "outputId": "147c2eb0-1faf-4f5e-9fd8-45c5f6312559"
      },
      "execution_count": null,
      "outputs": [
        {
          "output_type": "stream",
          "name": "stdout",
          "text": [
            "[[0. 0. 0. 0. 0.]\n",
            " [0. 0. 0. 0. 0.]\n",
            " [0. 0. 0. 0. 0.]\n",
            " [0. 0. 0. 0. 0.]]\n"
          ]
        }
      ]
    },
    {
      "cell_type": "code",
      "source": [
        "#create numpy array of ones\n",
        "\n",
        "y = np.ones((4,6))\n",
        "print(y)"
      ],
      "metadata": {
        "colab": {
          "base_uri": "https://localhost:8080/"
        },
        "id": "7AiGAvFsaELB",
        "outputId": "82a88936-133d-4b1d-a41a-67dc49d0b590"
      },
      "execution_count": null,
      "outputs": [
        {
          "output_type": "stream",
          "name": "stdout",
          "text": [
            "[[1. 1. 1. 1. 1. 1.]\n",
            " [1. 1. 1. 1. 1. 1.]\n",
            " [1. 1. 1. 1. 1. 1.]\n",
            " [1. 1. 1. 1. 1. 1.]]\n"
          ]
        }
      ]
    },
    {
      "cell_type": "code",
      "source": [
        "# creating numpy array of a particular value\n",
        "\n",
        "z = np.full((3,4),7)\n",
        "print(z)"
      ],
      "metadata": {
        "colab": {
          "base_uri": "https://localhost:8080/"
        },
        "id": "M9oUYvnfaORQ",
        "outputId": "affd4763-5e21-4185-fe22-1ac7bf5c6da8"
      },
      "execution_count": null,
      "outputs": [
        {
          "output_type": "stream",
          "name": "stdout",
          "text": [
            "[[7 7 7 7]\n",
            " [7 7 7 7]\n",
            " [7 7 7 7]]\n"
          ]
        }
      ]
    },
    {
      "cell_type": "code",
      "source": [
        "# Create an Identity Matrix\n",
        "a = np.eye(6)\n",
        "print(a)"
      ],
      "metadata": {
        "colab": {
          "base_uri": "https://localhost:8080/"
        },
        "id": "-3MgqZMwb7F6",
        "outputId": "289b216c-b84d-48cf-d2c0-085279f750d7"
      },
      "execution_count": null,
      "outputs": [
        {
          "output_type": "stream",
          "name": "stdout",
          "text": [
            "[[1. 0. 0. 0. 0. 0.]\n",
            " [0. 1. 0. 0. 0. 0.]\n",
            " [0. 0. 1. 0. 0. 0.]\n",
            " [0. 0. 0. 1. 0. 0.]\n",
            " [0. 0. 0. 0. 1. 0.]\n",
            " [0. 0. 0. 0. 0. 1.]]\n"
          ]
        }
      ]
    },
    {
      "cell_type": "code",
      "source": [
        "# Create a numpy array with random values\n",
        "b = np.random.random((4,5))\n",
        "print(b)"
      ],
      "metadata": {
        "colab": {
          "base_uri": "https://localhost:8080/"
        },
        "id": "FySXI5_ucol9",
        "outputId": "2af4e006-8bd4-41f1-f8a8-6666b9aa42c3"
      },
      "execution_count": null,
      "outputs": [
        {
          "output_type": "stream",
          "name": "stdout",
          "text": [
            "[[0.40284802 0.95434853 0.03459171 0.52573485 0.69911826]\n",
            " [0.83179353 0.99344464 0.7213077  0.01948463 0.52068884]\n",
            " [0.28301074 0.37972678 0.08345203 0.53577424 0.62753716]\n",
            " [0.1041909  0.04524097 0.37680704 0.09068858 0.8808527 ]]\n"
          ]
        }
      ]
    },
    {
      "cell_type": "code",
      "source": [
        "# random integer value array within a specific range\n",
        "\n",
        "c = np.random.randint(10,100,(3,6))  # 10-100 range, 3-6 column\n",
        "print(c)"
      ],
      "metadata": {
        "colab": {
          "base_uri": "https://localhost:8080/"
        },
        "id": "STgPRvt8c-Gm",
        "outputId": "0b563019-8df9-4957-ad4b-f4a10c5517fb"
      },
      "execution_count": null,
      "outputs": [
        {
          "output_type": "stream",
          "name": "stdout",
          "text": [
            "[[32 74 10 87 42 44]\n",
            " [94 93 27 62 36 55]\n",
            " [22 25 40 86 61 54]]\n"
          ]
        }
      ]
    },
    {
      "cell_type": "code",
      "source": [
        "# array of evenly spaced values\n",
        "\n",
        "d = np.linspace(10,100,5)\n",
        "print(d)"
      ],
      "metadata": {
        "colab": {
          "base_uri": "https://localhost:8080/"
        },
        "id": "n8MzVF9oXDjJ",
        "outputId": "218af860-3983-40bf-afc2-8903cb81354f"
      },
      "execution_count": null,
      "outputs": [
        {
          "output_type": "stream",
          "name": "stdout",
          "text": [
            "[ 10.   32.5  55.   77.5 100. ]\n"
          ]
        }
      ]
    },
    {
      "cell_type": "code",
      "source": [
        "# convert a list into numpy array\n",
        "\n",
        "list2 = [2,3,4,5,6,7]\n",
        "\n",
        "np_array = np.asarray(list2)\n",
        "print(np_array)"
      ],
      "metadata": {
        "colab": {
          "base_uri": "https://localhost:8080/"
        },
        "id": "jo7LZMi5X0Cp",
        "outputId": "61fdbfd5-9a9d-4135-f4f3-0da35325aa76"
      },
      "execution_count": null,
      "outputs": [
        {
          "output_type": "stream",
          "name": "stdout",
          "text": [
            "[2 3 4 5 6 7]\n"
          ]
        }
      ]
    },
    {
      "cell_type": "code",
      "source": [
        "# Analysing a particular array\n",
        "\n",
        "t = np.random.randint(10,90,(5,5))\n",
        "\n",
        "print(t)\n",
        "\n",
        "\n",
        "#"
      ],
      "metadata": {
        "colab": {
          "base_uri": "https://localhost:8080/"
        },
        "id": "IeKqJVEhY03R",
        "outputId": "d4bd034e-caa5-4c96-86ea-3c1a61c0b1b0"
      },
      "execution_count": null,
      "outputs": [
        {
          "output_type": "stream",
          "name": "stdout",
          "text": [
            "[[28 44 45 10 87]\n",
            " [57 54 41 22 23]\n",
            " [55 17 44 26 57]\n",
            " [74 76 82 12 78]\n",
            " [64 49 39 19 80]]\n"
          ]
        }
      ]
    },
    {
      "cell_type": "code",
      "source": [],
      "metadata": {
        "id": "plyhZDaaZGpK"
      },
      "execution_count": null,
      "outputs": []
    }
  ]
}